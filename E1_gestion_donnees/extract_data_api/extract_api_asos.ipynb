{
 "cells": [
  {
   "cell_type": "markdown",
   "metadata": {},
   "source": [
    "Step 1 - Imports"
   ]
  },
  {
   "cell_type": "code",
   "execution_count": 1,
   "metadata": {},
   "outputs": [],
   "source": [
    "import requests\n",
    "import pandas as pd"
   ]
  },
  {
   "cell_type": "markdown",
   "metadata": {},
   "source": [
    "Step 2 - Requests & CURL"
   ]
  },
  {
   "cell_type": "code",
   "execution_count": 2,
   "metadata": {},
   "outputs": [],
   "source": [
    "cookies = {\n",
    "    'featuresId': '20d1857c-f2e3-4d9c-84fd-9762dd372b10',\n",
    "    'browseCountry': 'FR',\n",
    "    'browseCurrency': 'EUR',\n",
    "    'browseLanguage': 'fr-FR',\n",
    "    'browseSizeSchema': 'FR',\n",
    "    'storeCode': 'FR',\n",
    "    'currency': '19',\n",
    "    'floor': '1000',\n",
    "    'asos-anon12': '9ca7e85e5e884fd19d891b5e7a32333c',\n",
    "    'asos': 'PreferredSite=&currencyid=19&currencylabel=EUR&topcatid=1000&customerguid=9ca7e85e5e884fd19d891b5e7a32333c',\n",
    "    'OptanonAlertBoxClosed': '2024-05-15T14:34:32.126Z',\n",
    "    'eupubconsent-v2': 'CP-prTAP-prTAAcABBENA0EwAPLAAELAAAYgKKwAwF5wUQBRMCioKKwAwF5gUSgooCioAAAA.flgACFgAAAAA',\n",
    "    'stc-welcome-message': 'cappedPageCount=2',\n",
    "    'asos-perx': '9ca7e85e5e884fd19d891b5e7a32333c||e408cb91ccec4c9db9ec5a0ed040ac28',\n",
    "    'geocountry': 'FR',\n",
    "    'asos_drmlp': '879ec88ebcf1d74b34f4c4371226e9f7',\n",
    "    'AMCVS_C0137F6A52DEAFCC0A490D4C%40AdobeOrg': '1',\n",
    "    'AMCV_C0137F6A52DEAFCC0A490D4C%40AdobeOrg': '-1303530583%7CMCMID%7C72904263319159337697812165582765071629%7CMCAID%7CNONE%7CMCOPTOUT-1739890825s%7CNONE%7CvVersion%7C3.3.0',\n",
    "    'siteChromeVersion': 'au=13&com=13&de=13&dk=13&es=13&fr=13&it=13&nl=13&pl=13&roe=13&row=13&ru=13&se=13&us=13',\n",
    "    'keyStoreDataversion': 'mhabj1f-41',\n",
    "    'ak_bmsc': 'A85BB00258AEA691E9A2E0BE67F0FBA3~000000000000000000000000000000~YAAQGeJIF4Akyf6UAQAA6EElGRqd2SUghpbZHq6mFEXXYSTbzPBMyMDPj2XOvQakqjOeirIZ2XI+g7oxvacuPne1RotmRQ9d/9XTqDsR4IfJXpopm0PvO6ZAe7KWdPNRlMj1ONiNwRfNxvzWohMQLKf/Do2i2A0ouD05Kx6OtdFgWh8EKtSEwQ9WZUIjoat4odAlZhhWCPaLabFgL+eicUwvnLSzvC+vYfWp9icO3S9aMNI6Nks+ONOqCYMI8e8ECMg9Bs1FH0DGQwjVZMiK6V4B+1CqNE70BekVCxIBFNZGA7FgpnT+Bmw9IRoddhKPv1zr2+b7YzFPxqGt+YaTFY0Z7EBYhvKYQGFGdiGwO7AJ5YosHpALpfrJXmu2TGs9a+MUI7GDRw==',\n",
    "    'asos-ts121': '01951925-432d-7005-9ff1-56dcb5d0f316',\n",
    "    'asos-b-sdv629': 'mhabj1f-41',\n",
    "    '_s_fpv': 'true',\n",
    "    's_cc': 'true',\n",
    "    '_abck': 'E19822FB28DD7479422001A3197B45CC~0~YAAQGeJIF50nyf6UAQAAGOUlGQ0/xyL5qnTKXERQBIg9ayIx2I9+0F0plCSIYuuIyqWaZfUb4j+2+SjWYciL3uPP049msebP6oIrQTjOQXtM7Aou+MRWR9Aaghhz+72laCIRb6DlKlJDB2mYH7cBaAyP7bVDT1nttzKUMP0KvUtdNwsK5N/Wv1H3itkDQwHtc6icIR/do/QpCulfcwuSYrI6rISxjqv2iJ4qkSf8jBAYgKsGaEc/Ts0bMw6gRbVwAmldIwU3s+Q6yOdBNpaQVOd7zRQVahsLGXVeDB7JI1u7UD4PKN+FtyZJXVgpObJxoIlUmP32G0uFBR1pKfQ5RY4LEPLvDa89BT5UeRH6LgvEmxQtJvSnKpzQQagXfM2XszY8BsGvFptEo5bjaiFLNFCJAH/+vxCXcaQfhNeNk8F8i8at4sM0qFc5Fqr2VxPxxvaefNSUPdJUgiI60vxH+wC+tTIzXF/Ed6QiF95fGMbnO+6/HlY22g==~-1~-1~-1',\n",
    "    'bm_sz': '66E72A22F3AC9C1C07257C0FE9DEDA0D~YAAQGeJIF8Myyf6UAQAAtw0oGRpHKgRvob8/X168QvTknpJqGSyhQYhJ6LzyWegPg4ToMXAYofABglRwnPZRvAszxP56zxFZXVzb1sXB744C4C5lIL2etCp+cJju7QFsxZYHgjMMBgHwfXvqXKXaoxb3VRJk50C+VrpiC9lkWKuwzTfaQg/PXKl5HaZDZrcD4prVsQQ6gt3YPnvjMWDiV9tITQxMFd7xtgQZexQjooe6WoAoMl7D3sNyy9KNND1LqyBjQPOaWxzEGRuDF7IHNqKVEBi5o6yfnr6+hZMXVfHcciZuJ50wgpO5GooYnm+34ZhXjiwUzAV70lA76egI+Of9g8T6Z6jRcg2X3+mwSApul5DXt9ZfzfXSnqR1EJdoRZEdsmfMtpnqz2RhftK12ZX67TISV9kppUv/Z8UZbZgT2WMSwjjoYxjQ/abUSFpXgfDbsHxnaw==~3360306~4338480',\n",
    "    's_pers': '%20s_vnum%3D1740783600058%2526vn%253D1%7C1740783600058%3B%20gpv_p6%3D%2520%7C1739885601383%3B%20eVar225%3D7%7C1739885610660%3B%20visitCount%3D1%7C1739885610661%3B%20gpv_e231%3Da6991acd-c95c-4aaa-90f9-c5c8dbbdd8b1%7C1739885611373%3B%20s_invisit%3Dtrue%7C1739885611374%3B%20s_nr%3D1739883811374-Repeat%7C1771419811374%3B%20gpv_e47%3Dno%2520value%7C1739885611375%3B%20gpv_p10%3Ddesktop%2520fr%257Ccategory%2520page%257C16661%2520refined%7C1739885611376%3B',\n",
    "    'OptanonConsent': 'isGpcEnabled=0&datestamp=Tue+Feb+18+2025+14%3A03%3A32+GMT%2B0100+(heure+normale+d%E2%80%99Europe+centrale)&version=202401.2.0&browserGpcFlag=0&isIABGlobal=false&hosts=&consentId=be4ef4c1-f449-45fb-9fda-7caa5e7e01c6&interactionCount=1&landingPath=NotLandingPage&groups=C0004%3A1%2CC0001%3A1%2CC0003%3A1%2CV2STACK42%3A0&geolocation=FR%3BHDF&AwaitingReconsent=false',\n",
    "    'plp_columsCount': 'threeColumns',\n",
    "    's_sq': 'asoscomprod%3D%2526c.%2526a.%2526activitymap.%2526page%253Ddesktop%252520fr%25257Ccategory%252520page%25257C16661%252520refined%2526link%253DCHARGER%252520PLUS%2526region%253Dplp%2526pageIDType%253D1%2526.activitymap%2526.a%2526.c',\n",
    "}\n",
    "\n",
    "headers = {\n",
    "    'accept': 'application/json, text/plain, */*',\n",
    "    'accept-language': 'fr-FR,fr;q=0.9,en-US;q=0.8,en;q=0.7',\n",
    "    'asos-c-name': '@asosteam/asos-web-product-listing-page',\n",
    "    'asos-c-plat': 'web',\n",
    "    'asos-c-ver': '1.2.0-ba388a6a-159',\n",
    "    'asos-cid': 'e935ad59-1918-4e5e-81b7-dc267ba648d9',\n",
    "    # 'cookie': 'featuresId=20d1857c-f2e3-4d9c-84fd-9762dd372b10; browseCountry=FR; browseCurrency=EUR; browseLanguage=fr-FR; browseSizeSchema=FR; storeCode=FR; currency=19; floor=1000; asos-anon12=9ca7e85e5e884fd19d891b5e7a32333c; asos=PreferredSite=&currencyid=19&currencylabel=EUR&topcatid=1000&customerguid=9ca7e85e5e884fd19d891b5e7a32333c; OptanonAlertBoxClosed=2024-05-15T14:34:32.126Z; eupubconsent-v2=CP-prTAP-prTAAcABBENA0EwAPLAAELAAAYgKKwAwF5wUQBRMCioKKwAwF5gUSgooCioAAAA.flgACFgAAAAA; stc-welcome-message=cappedPageCount=2; asos-perx=9ca7e85e5e884fd19d891b5e7a32333c||e408cb91ccec4c9db9ec5a0ed040ac28; geocountry=FR; asos_drmlp=879ec88ebcf1d74b34f4c4371226e9f7; AMCVS_C0137F6A52DEAFCC0A490D4C%40AdobeOrg=1; AMCV_C0137F6A52DEAFCC0A490D4C%40AdobeOrg=-1303530583%7CMCMID%7C72904263319159337697812165582765071629%7CMCAID%7CNONE%7CMCOPTOUT-1739890825s%7CNONE%7CvVersion%7C3.3.0; siteChromeVersion=au=13&com=13&de=13&dk=13&es=13&fr=13&it=13&nl=13&pl=13&roe=13&row=13&ru=13&se=13&us=13; keyStoreDataversion=mhabj1f-41; ak_bmsc=A85BB00258AEA691E9A2E0BE67F0FBA3~000000000000000000000000000000~YAAQGeJIF4Akyf6UAQAA6EElGRqd2SUghpbZHq6mFEXXYSTbzPBMyMDPj2XOvQakqjOeirIZ2XI+g7oxvacuPne1RotmRQ9d/9XTqDsR4IfJXpopm0PvO6ZAe7KWdPNRlMj1ONiNwRfNxvzWohMQLKf/Do2i2A0ouD05Kx6OtdFgWh8EKtSEwQ9WZUIjoat4odAlZhhWCPaLabFgL+eicUwvnLSzvC+vYfWp9icO3S9aMNI6Nks+ONOqCYMI8e8ECMg9Bs1FH0DGQwjVZMiK6V4B+1CqNE70BekVCxIBFNZGA7FgpnT+Bmw9IRoddhKPv1zr2+b7YzFPxqGt+YaTFY0Z7EBYhvKYQGFGdiGwO7AJ5YosHpALpfrJXmu2TGs9a+MUI7GDRw==; asos-ts121=01951925-432d-7005-9ff1-56dcb5d0f316; asos-b-sdv629=mhabj1f-41; _s_fpv=true; s_cc=true; _abck=E19822FB28DD7479422001A3197B45CC~0~YAAQGeJIF50nyf6UAQAAGOUlGQ0/xyL5qnTKXERQBIg9ayIx2I9+0F0plCSIYuuIyqWaZfUb4j+2+SjWYciL3uPP049msebP6oIrQTjOQXtM7Aou+MRWR9Aaghhz+72laCIRb6DlKlJDB2mYH7cBaAyP7bVDT1nttzKUMP0KvUtdNwsK5N/Wv1H3itkDQwHtc6icIR/do/QpCulfcwuSYrI6rISxjqv2iJ4qkSf8jBAYgKsGaEc/Ts0bMw6gRbVwAmldIwU3s+Q6yOdBNpaQVOd7zRQVahsLGXVeDB7JI1u7UD4PKN+FtyZJXVgpObJxoIlUmP32G0uFBR1pKfQ5RY4LEPLvDa89BT5UeRH6LgvEmxQtJvSnKpzQQagXfM2XszY8BsGvFptEo5bjaiFLNFCJAH/+vxCXcaQfhNeNk8F8i8at4sM0qFc5Fqr2VxPxxvaefNSUPdJUgiI60vxH+wC+tTIzXF/Ed6QiF95fGMbnO+6/HlY22g==~-1~-1~-1; bm_sz=66E72A22F3AC9C1C07257C0FE9DEDA0D~YAAQGeJIF8Myyf6UAQAAtw0oGRpHKgRvob8/X168QvTknpJqGSyhQYhJ6LzyWegPg4ToMXAYofABglRwnPZRvAszxP56zxFZXVzb1sXB744C4C5lIL2etCp+cJju7QFsxZYHgjMMBgHwfXvqXKXaoxb3VRJk50C+VrpiC9lkWKuwzTfaQg/PXKl5HaZDZrcD4prVsQQ6gt3YPnvjMWDiV9tITQxMFd7xtgQZexQjooe6WoAoMl7D3sNyy9KNND1LqyBjQPOaWxzEGRuDF7IHNqKVEBi5o6yfnr6+hZMXVfHcciZuJ50wgpO5GooYnm+34ZhXjiwUzAV70lA76egI+Of9g8T6Z6jRcg2X3+mwSApul5DXt9ZfzfXSnqR1EJdoRZEdsmfMtpnqz2RhftK12ZX67TISV9kppUv/Z8UZbZgT2WMSwjjoYxjQ/abUSFpXgfDbsHxnaw==~3360306~4338480; s_pers=%20s_vnum%3D1740783600058%2526vn%253D1%7C1740783600058%3B%20gpv_p6%3D%2520%7C1739885601383%3B%20eVar225%3D7%7C1739885610660%3B%20visitCount%3D1%7C1739885610661%3B%20gpv_e231%3Da6991acd-c95c-4aaa-90f9-c5c8dbbdd8b1%7C1739885611373%3B%20s_invisit%3Dtrue%7C1739885611374%3B%20s_nr%3D1739883811374-Repeat%7C1771419811374%3B%20gpv_e47%3Dno%2520value%7C1739885611375%3B%20gpv_p10%3Ddesktop%2520fr%257Ccategory%2520page%257C16661%2520refined%7C1739885611376%3B; OptanonConsent=isGpcEnabled=0&datestamp=Tue+Feb+18+2025+14%3A03%3A32+GMT%2B0100+(heure+normale+d%E2%80%99Europe+centrale)&version=202401.2.0&browserGpcFlag=0&isIABGlobal=false&hosts=&consentId=be4ef4c1-f449-45fb-9fda-7caa5e7e01c6&interactionCount=1&landingPath=NotLandingPage&groups=C0004%3A1%2CC0001%3A1%2CC0003%3A1%2CV2STACK42%3A0&geolocation=FR%3BHDF&AwaitingReconsent=false; plp_columsCount=threeColumns; s_sq=asoscomprod%3D%2526c.%2526a.%2526activitymap.%2526page%253Ddesktop%252520fr%25257Ccategory%252520page%25257C16661%252520refined%2526link%253DCHARGER%252520PLUS%2526region%253Dplp%2526pageIDType%253D1%2526.activitymap%2526.a%2526.c',\n",
    "    'priority': 'u=1, i',\n",
    "    'referer': 'https://www.asos.com/fr/femme/ctas/mode-en-ligne-etats-unis-13/cat/?cid=16661&page=2',\n",
    "    'sec-ch-ua': '\"Not A(Brand\";v=\"8\", \"Chromium\";v=\"132\", \"Google Chrome\";v=\"132\"',\n",
    "    'sec-ch-ua-mobile': '?0',\n",
    "    'sec-ch-ua-platform': '\"Linux\"',\n",
    "    'sec-fetch-dest': 'empty',\n",
    "    'sec-fetch-mode': 'cors',\n",
    "    'sec-fetch-site': 'same-origin',\n",
    "    'user-agent': 'Mozilla/5.0 (X11; Linux x86_64) AppleWebKit/537.36 (KHTML, like Gecko) Chrome/132.0.0.0 Safari/537.36',\n",
    "}\n",
    "\n",
    "params = {\n",
    "    'offset': '0',\n",
    "    'includeNonPurchasableTypes': 'restocking',\n",
    "    'store': 'FR',\n",
    "    'lang': 'fr-FR',\n",
    "    'currency': 'EUR',\n",
    "    'rowlength': '3',\n",
    "    'channel': 'desktop-web',\n",
    "    'country': 'FR',\n",
    "    'customerLoyaltyTier': '0',\n",
    "    'keyStoreDataversion': 'mhabj1f-41',\n",
    "    'advertisementsPartnerId': '100714',\n",
    "    'advertisementsVisitorId': '20d1857c-f2e3-4d9c-84fd-9762dd372b10',\n",
    "    'advertisementsOptInConsent': 'true',\n",
    "    'limit': '72',\n",
    "}\n",
    "\n",
    "response = requests.get(\n",
    "    'https://www.asos.com/api/product/search/v2/categories/16661',\n",
    "    params=params,\n",
    "    cookies=cookies,\n",
    "    headers=headers,\n",
    ")"
   ]
  },
  {
   "cell_type": "markdown",
   "metadata": {},
   "source": [
    "Step 3 - Check Status Code"
   ]
  },
  {
   "cell_type": "code",
   "execution_count": 3,
   "metadata": {},
   "outputs": [
    {
     "data": {
      "text/plain": [
       "<Response [200]>"
      ]
     },
     "execution_count": 3,
     "metadata": {},
     "output_type": "execute_result"
    }
   ],
   "source": [
    "response"
   ]
  },
  {
   "cell_type": "markdown",
   "metadata": {},
   "source": [
    "Step 4 - Create JSON Object"
   ]
  },
  {
   "cell_type": "code",
   "execution_count": 6,
   "metadata": {},
   "outputs": [],
   "source": [
    "results_json = response.json()"
   ]
  },
  {
   "cell_type": "markdown",
   "metadata": {},
   "source": [
    "Step 5 - Output Keys"
   ]
  },
  {
   "cell_type": "code",
   "execution_count": 7,
   "metadata": {},
   "outputs": [
    {
     "data": {
      "text/plain": [
       "dict_keys(['searchTerm', 'categoryName', 'itemCount', 'redirectUrl', 'products', 'facets', 'diagnostics', 'searchPassMeta', 'queryId', 'discoverSearchProductTypes', 'campaigns'])"
      ]
     },
     "execution_count": 7,
     "metadata": {},
     "output_type": "execute_result"
    }
   ],
   "source": [
    "results_json.keys()"
   ]
  },
  {
   "cell_type": "markdown",
   "metadata": {},
   "source": [
    "Step 6 - Find your Data"
   ]
  },
  {
   "cell_type": "code",
   "execution_count": 9,
   "metadata": {},
   "outputs": [],
   "source": [
    "result_items = results_json['products']"
   ]
  },
  {
   "cell_type": "code",
   "execution_count": 10,
   "metadata": {},
   "outputs": [
    {
     "data": {
      "text/plain": [
       "72"
      ]
     },
     "execution_count": 10,
     "metadata": {},
     "output_type": "execute_result"
    }
   ],
   "source": [
    "len(result_items)"
   ]
  },
  {
   "cell_type": "code",
   "execution_count": null,
   "metadata": {},
   "outputs": [
    {
     "data": {
      "text/plain": [
       "{'id': 206075643,\n",
       " 'name': 'ASOS DESIGN - Blouson Harrington avec col - Noir',\n",
       " 'price': {'current': {'value': 76.99, 'text': '76,99 €'},\n",
       "  'previous': {'value': None, 'text': ''},\n",
       "  'rrp': {'value': None, 'text': ''},\n",
       "  'lowestPriceInLast30Days': {'value': None, 'text': ''},\n",
       "  'isMarkedDown': False,\n",
       "  'isOutletPrice': False,\n",
       "  'currency': 'EUR'},\n",
       " 'colour': 'Noir',\n",
       " 'colourWayId': 206075644,\n",
       " 'brandName': 'ASOS DESIGN',\n",
       " 'hasVariantColours': False,\n",
       " 'hasMultiplePrices': False,\n",
       " 'groupId': None,\n",
       " 'productCode': 134200544,\n",
       " 'productType': 'Product',\n",
       " 'url': 'asos-design/asos-design-blouson-harrington-avec-col-noir/prd/206075643#colourWayId-206075644',\n",
       " 'imageUrl': 'images.asos-media.com/products/asos-design-blouson-harrington-avec-col-noir/206075643-1-black',\n",
       " 'additionalImageUrls': ['images.asos-media.com/products/asos-design-blouson-harrington-avec-col-noir/206075643-2',\n",
       "  'images.asos-media.com/products/asos-design-blouson-harrington-avec-col-noir/206075643-3',\n",
       "  'images.asos-media.com/products/asos-design-blouson-harrington-avec-col-noir/206075643-4'],\n",
       " 'videoUrl': 'www.asos-video.com/video/upload/q_auto/t_legacy_product_video/206075643-catwalk',\n",
       " 'showVideo': False,\n",
       " 'isSellingFast': True,\n",
       " 'isRestockingSoon': False,\n",
       " 'isPromotion': False,\n",
       " 'sponsoredCampaignId': None,\n",
       " 'facetGroupings': [{'products': [{'productId': 207644689},\n",
       "    {'productId': 206075643}],\n",
       "   'type': 'SupplierColour'}],\n",
       " 'advertisement': None}"
      ]
     },
     "execution_count": 15,
     "metadata": {},
     "output_type": "execute_result"
    }
   ],
   "source": [
    "result_items[0]['name']"
   ]
  },
  {
   "cell_type": "code",
   "execution_count": 13,
   "metadata": {},
   "outputs": [
    {
     "data": {
      "text/plain": [
       "'ASOS DESIGN'"
      ]
     },
     "execution_count": 13,
     "metadata": {},
     "output_type": "execute_result"
    }
   ],
   "source": [
    "result_items[0]['brandName']"
   ]
  },
  {
   "cell_type": "code",
   "execution_count": 14,
   "metadata": {},
   "outputs": [
    {
     "data": {
      "text/plain": [
       "'images.asos-media.com/products/asos-design-blouson-harrington-avec-col-noir/206075643-1-black'"
      ]
     },
     "execution_count": 14,
     "metadata": {},
     "output_type": "execute_result"
    }
   ],
   "source": [
    "result_items[0]['imageUrl']"
   ]
  },
  {
   "cell_type": "markdown",
   "metadata": {},
   "source": [
    "Step 7 - Put everything together - Loop through results"
   ]
  },
  {
   "cell_type": "code",
   "execution_count": 16,
   "metadata": {},
   "outputs": [],
   "source": [
    "name = []\n",
    "brand = []\n",
    "image = []\n",
    "\n",
    "for result in result_items:\n",
    "    name.append(result['name'])\n",
    "    brand.append(result['brandName'])\n",
    "    image.append(result['imageUrl'])"
   ]
  },
  {
   "cell_type": "markdown",
   "metadata": {},
   "source": [
    "Step 8 - Pandas Dataframe"
   ]
  },
  {
   "cell_type": "code",
   "execution_count": 17,
   "metadata": {},
   "outputs": [],
   "source": [
    "asos_df = pd.DataFrame({'name': name, 'brand': brand, 'image': image})"
   ]
  },
  {
   "cell_type": "code",
   "execution_count": 18,
   "metadata": {},
   "outputs": [
    {
     "data": {
      "text/html": [
       "<div>\n",
       "<style scoped>\n",
       "    .dataframe tbody tr th:only-of-type {\n",
       "        vertical-align: middle;\n",
       "    }\n",
       "\n",
       "    .dataframe tbody tr th {\n",
       "        vertical-align: top;\n",
       "    }\n",
       "\n",
       "    .dataframe thead th {\n",
       "        text-align: right;\n",
       "    }\n",
       "</style>\n",
       "<table border=\"1\" class=\"dataframe\">\n",
       "  <thead>\n",
       "    <tr style=\"text-align: right;\">\n",
       "      <th></th>\n",
       "      <th>name</th>\n",
       "      <th>brand</th>\n",
       "      <th>image</th>\n",
       "    </tr>\n",
       "  </thead>\n",
       "  <tbody>\n",
       "    <tr>\n",
       "      <th>0</th>\n",
       "      <td>ASOS DESIGN - Blouson Harrington avec col - Noir</td>\n",
       "      <td>ASOS DESIGN</td>\n",
       "      <td>images.asos-media.com/products/asos-design-blo...</td>\n",
       "    </tr>\n",
       "    <tr>\n",
       "      <th>1</th>\n",
       "      <td>ASOS DESIGN - Pull duveteux à manches amples -...</td>\n",
       "      <td>ASOS DESIGN</td>\n",
       "      <td>images.asos-media.com/products/asos-design-pul...</td>\n",
       "    </tr>\n",
       "    <tr>\n",
       "      <th>2</th>\n",
       "      <td>Stradivarius - Jean dad ample - Bleu foncé dél...</td>\n",
       "      <td>Stradivarius</td>\n",
       "      <td>images.asos-media.com/products/stradivarius-je...</td>\n",
       "    </tr>\n",
       "    <tr>\n",
       "      <th>3</th>\n",
       "      <td>ASOS DESIGN - Top froncé en tulle à manches co...</td>\n",
       "      <td>ASOS DESIGN</td>\n",
       "      <td>images.asos-media.com/products/asos-design-top...</td>\n",
       "    </tr>\n",
       "    <tr>\n",
       "      <th>4</th>\n",
       "      <td>The North Face - Saikuru - Doudoune à logo - Noir</td>\n",
       "      <td>The North Face</td>\n",
       "      <td>images.asos-media.com/products/the-north-face-...</td>\n",
       "    </tr>\n",
       "    <tr>\n",
       "      <th>...</th>\n",
       "      <td>...</td>\n",
       "      <td>...</td>\n",
       "      <td>...</td>\n",
       "    </tr>\n",
       "    <tr>\n",
       "      <th>67</th>\n",
       "      <td>DTT - Bomber matelassé à losanges - Noir</td>\n",
       "      <td>Don't Think Twice</td>\n",
       "      <td>images.asos-media.com/products/dtt-bomber-mate...</td>\n",
       "    </tr>\n",
       "    <tr>\n",
       "      <th>68</th>\n",
       "      <td>ASOS DESIGN - Robe courte en néoprène avec déc...</td>\n",
       "      <td>ASOS DESIGN</td>\n",
       "      <td>images.asos-media.com/products/asos-design-rob...</td>\n",
       "    </tr>\n",
       "    <tr>\n",
       "      <th>69</th>\n",
       "      <td>ASOS DESIGN - Robe courte à manches longues et...</td>\n",
       "      <td>ASOS DESIGN</td>\n",
       "      <td>images.asos-media.com/products/asos-design-rob...</td>\n",
       "    </tr>\n",
       "    <tr>\n",
       "      <th>70</th>\n",
       "      <td>Bershka - Body col V - Noir</td>\n",
       "      <td>Bershka</td>\n",
       "      <td>images.asos-media.com/products/bershka-body-co...</td>\n",
       "    </tr>\n",
       "    <tr>\n",
       "      <th>71</th>\n",
       "      <td>ASOS DESIGN - Legging en coton - Noir</td>\n",
       "      <td>ASOS DESIGN</td>\n",
       "      <td>images.asos-media.com/products/asos-design-leg...</td>\n",
       "    </tr>\n",
       "  </tbody>\n",
       "</table>\n",
       "<p>72 rows × 3 columns</p>\n",
       "</div>"
      ],
      "text/plain": [
       "                                                 name              brand  \\\n",
       "0    ASOS DESIGN - Blouson Harrington avec col - Noir        ASOS DESIGN   \n",
       "1   ASOS DESIGN - Pull duveteux à manches amples -...        ASOS DESIGN   \n",
       "2   Stradivarius - Jean dad ample - Bleu foncé dél...       Stradivarius   \n",
       "3   ASOS DESIGN - Top froncé en tulle à manches co...        ASOS DESIGN   \n",
       "4   The North Face - Saikuru - Doudoune à logo - Noir     The North Face   \n",
       "..                                                ...                ...   \n",
       "67           DTT - Bomber matelassé à losanges - Noir  Don't Think Twice   \n",
       "68  ASOS DESIGN - Robe courte en néoprène avec déc...        ASOS DESIGN   \n",
       "69  ASOS DESIGN - Robe courte à manches longues et...        ASOS DESIGN   \n",
       "70                        Bershka - Body col V - Noir            Bershka   \n",
       "71              ASOS DESIGN - Legging en coton - Noir        ASOS DESIGN   \n",
       "\n",
       "                                                image  \n",
       "0   images.asos-media.com/products/asos-design-blo...  \n",
       "1   images.asos-media.com/products/asos-design-pul...  \n",
       "2   images.asos-media.com/products/stradivarius-je...  \n",
       "3   images.asos-media.com/products/asos-design-top...  \n",
       "4   images.asos-media.com/products/the-north-face-...  \n",
       "..                                                ...  \n",
       "67  images.asos-media.com/products/dtt-bomber-mate...  \n",
       "68  images.asos-media.com/products/asos-design-rob...  \n",
       "69  images.asos-media.com/products/asos-design-rob...  \n",
       "70  images.asos-media.com/products/bershka-body-co...  \n",
       "71  images.asos-media.com/products/asos-design-leg...  \n",
       "\n",
       "[72 rows x 3 columns]"
      ]
     },
     "execution_count": 18,
     "metadata": {},
     "output_type": "execute_result"
    }
   ],
   "source": [
    "asos_df"
   ]
  },
  {
   "cell_type": "markdown",
   "metadata": {},
   "source": [
    "Step 10 - Multiple Pages"
   ]
  },
  {
   "cell_type": "code",
   "execution_count": 29,
   "metadata": {},
   "outputs": [],
   "source": [
    "name = []\n",
    "brand = []\n",
    "image = []\n",
    "\n",
    "\n",
    "for i in range(0,1440,72):\n",
    "\n",
    "    cookies = {\n",
    "        'featuresId': '20d1857c-f2e3-4d9c-84fd-9762dd372b10',\n",
    "        'browseCountry': 'FR',\n",
    "        'browseCurrency': 'EUR',\n",
    "        'browseLanguage': 'fr-FR',\n",
    "        'browseSizeSchema': 'FR',\n",
    "        'storeCode': 'FR',\n",
    "        'currency': '19',\n",
    "        'floor': '1000',\n",
    "        'asos-anon12': '9ca7e85e5e884fd19d891b5e7a32333c',\n",
    "        'asos': 'PreferredSite=&currencyid=19&currencylabel=EUR&topcatid=1000&customerguid=9ca7e85e5e884fd19d891b5e7a32333c',\n",
    "        'OptanonAlertBoxClosed': '2024-05-15T14:34:32.126Z',\n",
    "        'eupubconsent-v2': 'CP-prTAP-prTAAcABBENA0EwAPLAAELAAAYgKKwAwF5wUQBRMCioKKwAwF5gUSgooCioAAAA.flgACFgAAAAA',\n",
    "        'stc-welcome-message': 'cappedPageCount=2',\n",
    "        'asos-perx': '9ca7e85e5e884fd19d891b5e7a32333c||e408cb91ccec4c9db9ec5a0ed040ac28',\n",
    "        'geocountry': 'FR',\n",
    "        'asos_drmlp': '879ec88ebcf1d74b34f4c4371226e9f7',\n",
    "        'AMCVS_C0137F6A52DEAFCC0A490D4C%40AdobeOrg': '1',\n",
    "        'AMCV_C0137F6A52DEAFCC0A490D4C%40AdobeOrg': '-1303530583%7CMCMID%7C72904263319159337697812165582765071629%7CMCAID%7CNONE%7CMCOPTOUT-1739890825s%7CNONE%7CvVersion%7C3.3.0',\n",
    "        'siteChromeVersion': 'au=13&com=13&de=13&dk=13&es=13&fr=13&it=13&nl=13&pl=13&roe=13&row=13&ru=13&se=13&us=13',\n",
    "        'keyStoreDataversion': 'mhabj1f-41',\n",
    "        'ak_bmsc': 'A85BB00258AEA691E9A2E0BE67F0FBA3~000000000000000000000000000000~YAAQGeJIF4Akyf6UAQAA6EElGRqd2SUghpbZHq6mFEXXYSTbzPBMyMDPj2XOvQakqjOeirIZ2XI+g7oxvacuPne1RotmRQ9d/9XTqDsR4IfJXpopm0PvO6ZAe7KWdPNRlMj1ONiNwRfNxvzWohMQLKf/Do2i2A0ouD05Kx6OtdFgWh8EKtSEwQ9WZUIjoat4odAlZhhWCPaLabFgL+eicUwvnLSzvC+vYfWp9icO3S9aMNI6Nks+ONOqCYMI8e8ECMg9Bs1FH0DGQwjVZMiK6V4B+1CqNE70BekVCxIBFNZGA7FgpnT+Bmw9IRoddhKPv1zr2+b7YzFPxqGt+YaTFY0Z7EBYhvKYQGFGdiGwO7AJ5YosHpALpfrJXmu2TGs9a+MUI7GDRw==',\n",
    "        'asos-ts121': '01951925-432d-7005-9ff1-56dcb5d0f316',\n",
    "        'asos-b-sdv629': 'mhabj1f-41',\n",
    "        '_s_fpv': 'true',\n",
    "        's_cc': 'true',\n",
    "        '_abck': 'E19822FB28DD7479422001A3197B45CC~0~YAAQGeJIF50nyf6UAQAAGOUlGQ0/xyL5qnTKXERQBIg9ayIx2I9+0F0plCSIYuuIyqWaZfUb4j+2+SjWYciL3uPP049msebP6oIrQTjOQXtM7Aou+MRWR9Aaghhz+72laCIRb6DlKlJDB2mYH7cBaAyP7bVDT1nttzKUMP0KvUtdNwsK5N/Wv1H3itkDQwHtc6icIR/do/QpCulfcwuSYrI6rISxjqv2iJ4qkSf8jBAYgKsGaEc/Ts0bMw6gRbVwAmldIwU3s+Q6yOdBNpaQVOd7zRQVahsLGXVeDB7JI1u7UD4PKN+FtyZJXVgpObJxoIlUmP32G0uFBR1pKfQ5RY4LEPLvDa89BT5UeRH6LgvEmxQtJvSnKpzQQagXfM2XszY8BsGvFptEo5bjaiFLNFCJAH/+vxCXcaQfhNeNk8F8i8at4sM0qFc5Fqr2VxPxxvaefNSUPdJUgiI60vxH+wC+tTIzXF/Ed6QiF95fGMbnO+6/HlY22g==~-1~-1~-1',\n",
    "        'bm_sz': '66E72A22F3AC9C1C07257C0FE9DEDA0D~YAAQGeJIF8Myyf6UAQAAtw0oGRpHKgRvob8/X168QvTknpJqGSyhQYhJ6LzyWegPg4ToMXAYofABglRwnPZRvAszxP56zxFZXVzb1sXB744C4C5lIL2etCp+cJju7QFsxZYHgjMMBgHwfXvqXKXaoxb3VRJk50C+VrpiC9lkWKuwzTfaQg/PXKl5HaZDZrcD4prVsQQ6gt3YPnvjMWDiV9tITQxMFd7xtgQZexQjooe6WoAoMl7D3sNyy9KNND1LqyBjQPOaWxzEGRuDF7IHNqKVEBi5o6yfnr6+hZMXVfHcciZuJ50wgpO5GooYnm+34ZhXjiwUzAV70lA76egI+Of9g8T6Z6jRcg2X3+mwSApul5DXt9ZfzfXSnqR1EJdoRZEdsmfMtpnqz2RhftK12ZX67TISV9kppUv/Z8UZbZgT2WMSwjjoYxjQ/abUSFpXgfDbsHxnaw==~3360306~4338480',\n",
    "        's_pers': '%20s_vnum%3D1740783600058%2526vn%253D1%7C1740783600058%3B%20gpv_p6%3D%2520%7C1739885601383%3B%20eVar225%3D7%7C1739885610660%3B%20visitCount%3D1%7C1739885610661%3B%20gpv_e231%3Da6991acd-c95c-4aaa-90f9-c5c8dbbdd8b1%7C1739885611373%3B%20s_invisit%3Dtrue%7C1739885611374%3B%20s_nr%3D1739883811374-Repeat%7C1771419811374%3B%20gpv_e47%3Dno%2520value%7C1739885611375%3B%20gpv_p10%3Ddesktop%2520fr%257Ccategory%2520page%257C16661%2520refined%7C1739885611376%3B',\n",
    "        'OptanonConsent': 'isGpcEnabled=0&datestamp=Tue+Feb+18+2025+14%3A03%3A32+GMT%2B0100+(heure+normale+d%E2%80%99Europe+centrale)&version=202401.2.0&browserGpcFlag=0&isIABGlobal=false&hosts=&consentId=be4ef4c1-f449-45fb-9fda-7caa5e7e01c6&interactionCount=1&landingPath=NotLandingPage&groups=C0004%3A1%2CC0001%3A1%2CC0003%3A1%2CV2STACK42%3A0&geolocation=FR%3BHDF&AwaitingReconsent=false',\n",
    "        'plp_columsCount': 'threeColumns',\n",
    "        's_sq': 'asoscomprod%3D%2526c.%2526a.%2526activitymap.%2526page%253Ddesktop%252520fr%25257Ccategory%252520page%25257C16661%252520refined%2526link%253DCHARGER%252520PLUS%2526region%253Dplp%2526pageIDType%253D1%2526.activitymap%2526.a%2526.c',\n",
    "    }\n",
    "\n",
    "    headers = {\n",
    "        'accept': 'application/json, text/plain, */*',\n",
    "        'accept-language': 'fr-FR,fr;q=0.9,en-US;q=0.8,en;q=0.7',\n",
    "        'asos-c-name': '@asosteam/asos-web-product-listing-page',\n",
    "        'asos-c-plat': 'web',\n",
    "        'asos-c-ver': '1.2.0-ba388a6a-159',\n",
    "        'asos-cid': 'e935ad59-1918-4e5e-81b7-dc267ba648d9',\n",
    "        # 'cookie': 'featuresId=20d1857c-f2e3-4d9c-84fd-9762dd372b10; browseCountry=FR; browseCurrency=EUR; browseLanguage=fr-FR; browseSizeSchema=FR; storeCode=FR; currency=19; floor=1000; asos-anon12=9ca7e85e5e884fd19d891b5e7a32333c; asos=PreferredSite=&currencyid=19&currencylabel=EUR&topcatid=1000&customerguid=9ca7e85e5e884fd19d891b5e7a32333c; OptanonAlertBoxClosed=2024-05-15T14:34:32.126Z; eupubconsent-v2=CP-prTAP-prTAAcABBENA0EwAPLAAELAAAYgKKwAwF5wUQBRMCioKKwAwF5gUSgooCioAAAA.flgACFgAAAAA; stc-welcome-message=cappedPageCount=2; asos-perx=9ca7e85e5e884fd19d891b5e7a32333c||e408cb91ccec4c9db9ec5a0ed040ac28; geocountry=FR; asos_drmlp=879ec88ebcf1d74b34f4c4371226e9f7; AMCVS_C0137F6A52DEAFCC0A490D4C%40AdobeOrg=1; AMCV_C0137F6A52DEAFCC0A490D4C%40AdobeOrg=-1303530583%7CMCMID%7C72904263319159337697812165582765071629%7CMCAID%7CNONE%7CMCOPTOUT-1739890825s%7CNONE%7CvVersion%7C3.3.0; siteChromeVersion=au=13&com=13&de=13&dk=13&es=13&fr=13&it=13&nl=13&pl=13&roe=13&row=13&ru=13&se=13&us=13; keyStoreDataversion=mhabj1f-41; ak_bmsc=A85BB00258AEA691E9A2E0BE67F0FBA3~000000000000000000000000000000~YAAQGeJIF4Akyf6UAQAA6EElGRqd2SUghpbZHq6mFEXXYSTbzPBMyMDPj2XOvQakqjOeirIZ2XI+g7oxvacuPne1RotmRQ9d/9XTqDsR4IfJXpopm0PvO6ZAe7KWdPNRlMj1ONiNwRfNxvzWohMQLKf/Do2i2A0ouD05Kx6OtdFgWh8EKtSEwQ9WZUIjoat4odAlZhhWCPaLabFgL+eicUwvnLSzvC+vYfWp9icO3S9aMNI6Nks+ONOqCYMI8e8ECMg9Bs1FH0DGQwjVZMiK6V4B+1CqNE70BekVCxIBFNZGA7FgpnT+Bmw9IRoddhKPv1zr2+b7YzFPxqGt+YaTFY0Z7EBYhvKYQGFGdiGwO7AJ5YosHpALpfrJXmu2TGs9a+MUI7GDRw==; asos-ts121=01951925-432d-7005-9ff1-56dcb5d0f316; asos-b-sdv629=mhabj1f-41; _s_fpv=true; s_cc=true; _abck=E19822FB28DD7479422001A3197B45CC~0~YAAQGeJIF50nyf6UAQAAGOUlGQ0/xyL5qnTKXERQBIg9ayIx2I9+0F0plCSIYuuIyqWaZfUb4j+2+SjWYciL3uPP049msebP6oIrQTjOQXtM7Aou+MRWR9Aaghhz+72laCIRb6DlKlJDB2mYH7cBaAyP7bVDT1nttzKUMP0KvUtdNwsK5N/Wv1H3itkDQwHtc6icIR/do/QpCulfcwuSYrI6rISxjqv2iJ4qkSf8jBAYgKsGaEc/Ts0bMw6gRbVwAmldIwU3s+Q6yOdBNpaQVOd7zRQVahsLGXVeDB7JI1u7UD4PKN+FtyZJXVgpObJxoIlUmP32G0uFBR1pKfQ5RY4LEPLvDa89BT5UeRH6LgvEmxQtJvSnKpzQQagXfM2XszY8BsGvFptEo5bjaiFLNFCJAH/+vxCXcaQfhNeNk8F8i8at4sM0qFc5Fqr2VxPxxvaefNSUPdJUgiI60vxH+wC+tTIzXF/Ed6QiF95fGMbnO+6/HlY22g==~-1~-1~-1; bm_sz=66E72A22F3AC9C1C07257C0FE9DEDA0D~YAAQGeJIF8Myyf6UAQAAtw0oGRpHKgRvob8/X168QvTknpJqGSyhQYhJ6LzyWegPg4ToMXAYofABglRwnPZRvAszxP56zxFZXVzb1sXB744C4C5lIL2etCp+cJju7QFsxZYHgjMMBgHwfXvqXKXaoxb3VRJk50C+VrpiC9lkWKuwzTfaQg/PXKl5HaZDZrcD4prVsQQ6gt3YPnvjMWDiV9tITQxMFd7xtgQZexQjooe6WoAoMl7D3sNyy9KNND1LqyBjQPOaWxzEGRuDF7IHNqKVEBi5o6yfnr6+hZMXVfHcciZuJ50wgpO5GooYnm+34ZhXjiwUzAV70lA76egI+Of9g8T6Z6jRcg2X3+mwSApul5DXt9ZfzfXSnqR1EJdoRZEdsmfMtpnqz2RhftK12ZX67TISV9kppUv/Z8UZbZgT2WMSwjjoYxjQ/abUSFpXgfDbsHxnaw==~3360306~4338480; s_pers=%20s_vnum%3D1740783600058%2526vn%253D1%7C1740783600058%3B%20gpv_p6%3D%2520%7C1739885601383%3B%20eVar225%3D7%7C1739885610660%3B%20visitCount%3D1%7C1739885610661%3B%20gpv_e231%3Da6991acd-c95c-4aaa-90f9-c5c8dbbdd8b1%7C1739885611373%3B%20s_invisit%3Dtrue%7C1739885611374%3B%20s_nr%3D1739883811374-Repeat%7C1771419811374%3B%20gpv_e47%3Dno%2520value%7C1739885611375%3B%20gpv_p10%3Ddesktop%2520fr%257Ccategory%2520page%257C16661%2520refined%7C1739885611376%3B; OptanonConsent=isGpcEnabled=0&datestamp=Tue+Feb+18+2025+14%3A03%3A32+GMT%2B0100+(heure+normale+d%E2%80%99Europe+centrale)&version=202401.2.0&browserGpcFlag=0&isIABGlobal=false&hosts=&consentId=be4ef4c1-f449-45fb-9fda-7caa5e7e01c6&interactionCount=1&landingPath=NotLandingPage&groups=C0004%3A1%2CC0001%3A1%2CC0003%3A1%2CV2STACK42%3A0&geolocation=FR%3BHDF&AwaitingReconsent=false; plp_columsCount=threeColumns; s_sq=asoscomprod%3D%2526c.%2526a.%2526activitymap.%2526page%253Ddesktop%252520fr%25257Ccategory%252520page%25257C16661%252520refined%2526link%253DCHARGER%252520PLUS%2526region%253Dplp%2526pageIDType%253D1%2526.activitymap%2526.a%2526.c',\n",
    "        'priority': 'u=1, i',\n",
    "        'referer': 'https://www.asos.com/fr/femme/ctas/mode-en-ligne-etats-unis-13/cat/?cid=16661&page=2',\n",
    "        'sec-ch-ua': '\"Not A(Brand\";v=\"8\", \"Chromium\";v=\"132\", \"Google Chrome\";v=\"132\"',\n",
    "        'sec-ch-ua-mobile': '?0',\n",
    "        'sec-ch-ua-platform': '\"Linux\"',\n",
    "        'sec-fetch-dest': 'empty',\n",
    "        'sec-fetch-mode': 'cors',\n",
    "        'sec-fetch-site': 'same-origin',\n",
    "        'user-agent': 'Mozilla/5.0 (X11; Linux x86_64) AppleWebKit/537.36 (KHTML, like Gecko) Chrome/132.0.0.0 Safari/537.36',\n",
    "    }\n",
    "\n",
    "    params = {\n",
    "        'offset': str(i),\n",
    "        'includeNonPurchasableTypes': 'restocking',\n",
    "        'store': 'FR',\n",
    "        'lang': 'fr-FR',\n",
    "        'currency': 'EUR',\n",
    "        'rowlength': '3',\n",
    "        'channel': 'desktop-web',\n",
    "        'country': 'FR',\n",
    "        'customerLoyaltyTier': '0',\n",
    "        'keyStoreDataversion': 'mhabj1f-41',\n",
    "        'advertisementsPartnerId': '100714',\n",
    "        'advertisementsVisitorId': '20d1857c-f2e3-4d9c-84fd-9762dd372b10',\n",
    "        'advertisementsOptInConsent': 'true',\n",
    "        'limit': '72',\n",
    "    }\n",
    "\n",
    "    response = requests.get(\n",
    "        'https://www.asos.com/api/product/search/v2/categories/16661',\n",
    "        params=params,\n",
    "        cookies=cookies,\n",
    "        headers=headers,\n",
    "    )\n",
    "\n",
    "    results_json = response.json()\n",
    "\n",
    "    result_items = results_json['products']\n",
    "\n",
    "    for result in result_items:\n",
    "        name.append(result['name'])\n",
    "        brand.append(result['brandName'])\n",
    "        image.append(result['imageUrl'])\n",
    "\n",
    "    "
   ]
  },
  {
   "cell_type": "code",
   "execution_count": 30,
   "metadata": {},
   "outputs": [],
   "source": [
    "asos_df = pd.DataFrame({'name': name, 'brand': brand, 'image': image})"
   ]
  },
  {
   "cell_type": "code",
   "execution_count": 31,
   "metadata": {},
   "outputs": [
    {
     "name": "stdout",
     "output_type": "stream",
     "text": [
      "                                                  name           brand  \\\n",
      "0     ASOS DESIGN - Blouson Harrington avec col - Noir     ASOS DESIGN   \n",
      "1    ASOS DESIGN - Pull duveteux à manches amples -...     ASOS DESIGN   \n",
      "2    Stradivarius - Jean dad ample - Bleu foncé dél...    Stradivarius   \n",
      "3    ASOS DESIGN - Top froncé en tulle à manches co...     ASOS DESIGN   \n",
      "4    The North Face - Saikuru - Doudoune à logo - Noir  The North Face   \n",
      "..                                                 ...             ...   \n",
      "971  COLLUSION - T-shirt unisexe à manches longues ...       Collusion   \n",
      "972             ASOS DESIGN - Jean skinny - Bleu moyen     ASOS DESIGN   \n",
      "973  ASOS DESIGN - Robe longue de qualité supérieur...     ASOS DESIGN   \n",
      "974  Stradivarius - STR - Top sculptant à manches é...    Stradivarius   \n",
      "975    Mango - Capsule - Veste en cuir oversize - Noir           Mango   \n",
      "\n",
      "                                                 image  \n",
      "0    images.asos-media.com/products/asos-design-blo...  \n",
      "1    images.asos-media.com/products/asos-design-pul...  \n",
      "2    images.asos-media.com/products/stradivarius-je...  \n",
      "3    images.asos-media.com/products/asos-design-top...  \n",
      "4    images.asos-media.com/products/the-north-face-...  \n",
      "..                                                 ...  \n",
      "971  images.asos-media.com/products/collusion-t-shi...  \n",
      "972  images.asos-media.com/products/asos-design-jea...  \n",
      "973  images.asos-media.com/products/asos-design-rob...  \n",
      "974  images.asos-media.com/products/stradivarius-st...  \n",
      "975  images.asos-media.com/products/mango-capsule-v...  \n",
      "\n",
      "[976 rows x 3 columns]\n"
     ]
    }
   ],
   "source": [
    "print(asos_df)"
   ]
  },
  {
   "cell_type": "markdown",
   "metadata": {},
   "source": [
    "Step 9 - Store results in CSV"
   ]
  },
  {
   "cell_type": "code",
   "execution_count": 32,
   "metadata": {},
   "outputs": [],
   "source": [
    "asos_df.to_csv('products_asos.csv', index=False)"
   ]
  }
 ],
 "metadata": {
  "kernelspec": {
   "display_name": "venv",
   "language": "python",
   "name": "python3"
  },
  "language_info": {
   "codemirror_mode": {
    "name": "ipython",
    "version": 3
   },
   "file_extension": ".py",
   "mimetype": "text/x-python",
   "name": "python",
   "nbconvert_exporter": "python",
   "pygments_lexer": "ipython3",
   "version": "3.10.12"
  }
 },
 "nbformat": 4,
 "nbformat_minor": 2
}
